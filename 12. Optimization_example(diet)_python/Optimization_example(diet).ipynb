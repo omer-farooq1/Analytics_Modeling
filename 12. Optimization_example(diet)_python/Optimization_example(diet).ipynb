{
 "cells": [
  {
   "cell_type": "markdown",
   "metadata": {},
   "source": [
    "# <center>ISYE - 6501: Homework 11 - Diet Optimization</center>\n",
    "### <center>Omer Farooq (EDx ID: mfarooq4)</center>\n",
    "### Question 15.2\n",
    "**In the videos, we saw the “diet problem”. (The diet problem is one of the first large-scale optimization problems to be studied in practice. Back in the 1930’s and 40’s, the Army wanted to meet the nutritional requirements of its soldiers while minimizing the cost.) In this homework you get to solve a diet problem with real data. The data is given in the file diet.xls.**<br> \n",
    "1. **Formulate an optimization model (a linear program) to find the cheapest diet that satisfies the maximum and minimum daily nutrition constraints, and solve it using PuLP. Turn in your code and the solution. (The optimal solution should be a diet of air-popped popcorn, poached eggs, oranges, raw iceberg lettuce, raw celery, and frozen broccoli. UGH!)**\n",
    "2. **Please add to your model the following constraints (which might require adding more variables) and solve the new model:**<br>\n",
    "    * **If a food is selected, then a minimum of 1/10 serving must be chosen. (Hint: now you will need two variables for each food i: whether it is chosen, and how much is part of the diet. You’ll also need to write a constraint to link them.)**<br>\n",
    "    * **Many people dislike celery and frozen broccoli. So at most one, but not both, can be selected.**<br>\n",
    "    * **To get day-to-day variety in protein, at least 3 kinds of meat/poultry/fish/eggs must be selected. (If something is ambiguous (e.g., should bean-and-bacon soup be considered meat?), just call it whatever you think is appropriate – I want you to learn how to write this type of constraint, but I don’t really care whether we agree on how to classify foods!)**<br>\n",
    "\n",
    "**If you want to see what a more full-sized problem would look like, try solving your models for the file diet_large.xls, which is a low-cholesterol diet model (rather than minimizing cost, the goal is to minimize cholesterol intake). I don’t know anyone who’d want to eat this diet – the optimal solution includes dried chrysanthemum garland, raw beluga whale flipper, freeze-dried parsley, etc. – which shows why it’s necessary to add additional constraints beyond the basic ones we saw in the video!**<br> \n",
    "**(Note: there are many optimal solutions, all with zero cholesterol, so you might get a different one. It probably won’t be much more appetizing than mine.)**\n",
    "\n"
   ]
  },
  {
   "cell_type": "markdown",
   "metadata": {},
   "source": [
    "### Solution 15.2.1\n",
    "The code below sets up the model to find optimum solution for the diet.xls file.<br>\n",
    "The 'Optimal Solution' turned out to be:<br>\n",
    " * foods_Celery,_Raw = 52.64371\n",
    " * foods_Frozen_Broccoli = 0.25960653\n",
    " * foods_Lettuce,Iceberg,Raw = 63.988506\n",
    " * foods_Oranges = 2.2929389\n",
    " * foods_Poached_Eggs = 0.14184397\n",
    " * foods_Popcorn,Air_Popped = 13.869322\n",
    "<br>\n",
    "<br>\n",
    "With total cost of $4.34"
   ]
  },
  {
   "cell_type": "code",
   "execution_count": 1,
   "metadata": {},
   "outputs": [
    {
     "name": "stdout",
     "output_type": "stream",
     "text": [
      "Requirement already satisfied: pulp in c:\\users\\mfarooq10\\appdata\\local\\continuum\\anaconda3\\lib\\site-packages (2.0)\n",
      "Requirement already satisfied: pyparsing>=2.0.1 in c:\\users\\mfarooq10\\appdata\\local\\continuum\\anaconda3\\lib\\site-packages (from pulp) (2.4.6)\n",
      "Requirement already satisfied: xlrd in c:\\users\\mfarooq10\\appdata\\local\\continuum\\anaconda3\\lib\\site-packages (1.2.0)\n"
     ]
    }
   ],
   "source": [
    "#installing the Pulp library first\n",
    "!pip install pulp\n",
    "!pip install xlrd"
   ]
  },
  {
   "cell_type": "code",
   "execution_count": 2,
   "metadata": {},
   "outputs": [],
   "source": [
    "#importing the needed libraris\n",
    "from pulp import * \n",
    "import pandas as pd \n",
    "import os"
   ]
  },
  {
   "cell_type": "code",
   "execution_count": 3,
   "metadata": {},
   "outputs": [],
   "source": [
    "#setting up the default dictionary to pull the excel file from\n",
    "os.chdir('/Users/MFarooq10/Dropbox/Personal/Studies/Analytics Masters Content/2. Intro to Analytics Modeling/Week 12/data_15.2')\n",
    "\n",
    "#importing data to a dataframe\n",
    "data = pd.read_excel('diet.xls') \n",
    "\n",
    "#trimming the bottom rows\n",
    "diet_data = data[0:64]\n",
    "\n",
    "#converting data to list of lists\n",
    "diet_data = diet_data.values.tolist()"
   ]
  },
  {
   "cell_type": "code",
   "execution_count": 4,
   "metadata": {},
   "outputs": [],
   "source": [
    "#create dictionaries for foods, cost and nutrients\n",
    "\n",
    "foods = [x[0] for x in diet_data]\n",
    "cost = dict([(x[0], float(x[1])) for x in diet_data])\n",
    "calories = dict([(x[0], float(x[3])) for x in diet_data])\n",
    "cholesterol = dict([(x[0], float(x[4])) for x in diet_data])\n",
    "totalFat = dict([(x[0], float(x[5])) for x in diet_data])\n",
    "sodium = dict([(x[0], float(x[6])) for x in diet_data])\n",
    "carbs = dict([(x[0], float(x[7])) for x in diet_data])\n",
    "fiber = dict([(x[0], float(x[8])) for x in diet_data])\n",
    "protien = dict([(x[0], float(x[9])) for x in diet_data])\n",
    "vitaminA = dict([(x[0], float(x[10])) for x in diet_data])\n",
    "vitaminC = dict([(x[0], float(x[11])) for x in diet_data])\n",
    "calcium = dict([(x[0], float(x[12])) for x in diet_data])\n",
    "iron = dict([(x[0], float(x[13])) for x in diet_data])"
   ]
  },
  {
   "cell_type": "code",
   "execution_count": 5,
   "metadata": {},
   "outputs": [
    {
     "name": "stdout",
     "output_type": "stream",
     "text": [
      "['Frozen Broccoli', 'Carrots,Raw', 'Celery, Raw', 'Frozen Corn', 'Lettuce,Iceberg,Raw']\n"
     ]
    },
    {
     "data": {
      "text/plain": [
       "{'Frozen Broccoli': 73.8,\n",
       " 'Carrots,Raw': 23.7,\n",
       " 'Celery, Raw': 6.4,\n",
       " 'Frozen Corn': 72.2,\n",
       " 'Lettuce,Iceberg,Raw': 2.6}"
      ]
     },
     "execution_count": 5,
     "metadata": {},
     "output_type": "execute_result"
    }
   ],
   "source": [
    "#showing the foods list and a sample dictionary with 5 elements only\n",
    "print(foods[:5])\n",
    "dict(itertools.islice(calories.items(), 5)) "
   ]
  },
  {
   "cell_type": "code",
   "execution_count": 6,
   "metadata": {},
   "outputs": [],
   "source": [
    "# create list for min and max nutrition values for foods\n",
    "n_min = [1500, 30, 20, 800, 130, 125, 60, 1000, 400, 700, 10]\n",
    "n_max = [2500, 240, 70, 2000, 450, 250, 100, 10000, 5000, 1500, 40]"
   ]
  },
  {
   "cell_type": "code",
   "execution_count": 7,
   "metadata": {},
   "outputs": [
    {
     "data": {
      "text/plain": [
       "{'Frozen Broccoli': 73.8,\n",
       " 'Carrots,Raw': 23.7,\n",
       " 'Celery, Raw': 6.4,\n",
       " 'Frozen Corn': 72.2,\n",
       " 'Lettuce,Iceberg,Raw': 2.6}"
      ]
     },
     "execution_count": 7,
     "metadata": {},
     "output_type": "execute_result"
    }
   ],
   "source": [
    "#list of dictionary of foods with contraints\n",
    "f_c = []\n",
    "for j in range(0,11):\n",
    "    f_c.append(dict([(x[0], float(x[j+3])) for x in diet_data]))\n",
    "\n",
    "#showing first 5 pairs of 1st dictionary in the list\n",
    "dict(itertools.islice(f_c[0].items(), 5)) "
   ]
  },
  {
   "cell_type": "code",
   "execution_count": 8,
   "metadata": {},
   "outputs": [],
   "source": [
    "#creating the optimization problem\n",
    "problem_1 = LpProblem('Diet_optimization', LpMinimize)"
   ]
  },
  {
   "cell_type": "code",
   "execution_count": 9,
   "metadata": {},
   "outputs": [],
   "source": [
    "#define variables\n",
    "foodVar = LpVariable.dicts(\"foods\", foods, lowBound=0)\n",
    "chosenVar = LpVariable.dicts(\"Chosen\", foods, lowBound=0, upBound=1, cat=\"Binary\")"
   ]
  },
  {
   "cell_type": "code",
   "execution_count": 10,
   "metadata": {},
   "outputs": [],
   "source": [
    "#objective function\n",
    "problem_1 += lpSum([cost[f] * foodVar[f] for f in foods])"
   ]
  },
  {
   "cell_type": "code",
   "execution_count": 11,
   "metadata": {},
   "outputs": [],
   "source": [
    "#constraints for nutrients\n",
    "for i in range(0,11): #calories + 10 nutrients\n",
    "    f_c_foodvar = pulp.lpSum([f_c[i][j] * foodVar[j] for j in foods])\n",
    "    condition_1 = n_min[i] <= + f_c_foodvar\n",
    "    problem_1 += condition_1\n",
    "    \n",
    "for i in range(0,11):\n",
    "    f_c_foodvar = pulp.lpSum([f_c[i][j] * foodVar[j] for j in foods])\n",
    "    condition_2 = n_max[i] >= + f_c_foodvar\n",
    "    problem_1 += condition_2"
   ]
  },
  {
   "cell_type": "code",
   "execution_count": 12,
   "metadata": {},
   "outputs": [
    {
     "name": "stdout",
     "output_type": "stream",
     "text": [
      "Status: Optimal\n"
     ]
    }
   ],
   "source": [
    "#solve the problem\n",
    "problem_1.solve()\n",
    "print(\"Status:\", LpStatus[problem_1.status])"
   ]
  },
  {
   "cell_type": "code",
   "execution_count": 13,
   "metadata": {},
   "outputs": [
    {
     "name": "stdout",
     "output_type": "stream",
     "text": [
      "foods_Celery,_Raw = 52.64371\n",
      "foods_Frozen_Broccoli = 0.25960653\n",
      "foods_Lettuce,Iceberg,Raw = 63.988506\n",
      "foods_Oranges = 2.2929389\n",
      "foods_Poached_Eggs = 0.14184397\n",
      "foods_Popcorn,Air_Popped = 13.869322\n"
     ]
    }
   ],
   "source": [
    "#optimal solution print\n",
    "for v in problem_1.variables():\n",
    "    if v.varValue != 0.0: \n",
    "        print(v.name, \"=\", v.varValue)"
   ]
  },
  {
   "cell_type": "code",
   "execution_count": 14,
   "metadata": {},
   "outputs": [
    {
     "name": "stdout",
     "output_type": "stream",
     "text": [
      "Total cost of optimal diet = $4.34\n"
     ]
    }
   ],
   "source": [
    "# cost of the optimal diet\n",
    "print(\"Total cost of optimal diet = $%.2f\" % value(problem_1.objective))"
   ]
  },
  {
   "cell_type": "markdown",
   "metadata": {},
   "source": [
    "### Solution 15.2.2\n",
    "The code below adds the 3 new constraints to the model to find the new optimum solution for the diet.xls file. I used most of the code from 15.2.1 and added new problem and constraints to solve 15.2.2<br>\n",
    "The 'Optimal Solution' turned out to be with total cost of $4.51, which is not much higher even with 3 proteins added to the diet. "
   ]
  },
  {
   "cell_type": "code",
   "execution_count": 15,
   "metadata": {},
   "outputs": [],
   "source": [
    "#Using most of the cost above, I will simply set up the new problem and create new constraints\n",
    "\n",
    "problem_2 = LpProblem('diet_optimization_2', LpMinimize)\n",
    "\n",
    "# objective function\n",
    "problem_2 += lpSum([cost[f] * foodVar[f] for f in foods])"
   ]
  },
  {
   "cell_type": "code",
   "execution_count": 16,
   "metadata": {},
   "outputs": [],
   "source": [
    "# repeating contraints from 15.2.1\n",
    "for i in range(0,11): #calories + 10 nutrients\n",
    "    f_c_foodvar = pulp.lpSum([f_c[i][j] * foodVar[j] for j in foods])\n",
    "    condition_1 = n_min[i] <= + f_c_foodvar\n",
    "    problem_2 += condition_1\n",
    "    \n",
    "for i in range(0,11):\n",
    "    f_c_foodvar = pulp.lpSum([f_c[i][j] * foodVar[j] for j in foods])\n",
    "    condition_2 = n_max[i] >= + f_c_foodvar\n",
    "    problem_2 += condition_2"
   ]
  },
  {
   "cell_type": "code",
   "execution_count": 17,
   "metadata": {},
   "outputs": [],
   "source": [
    "# new constraint 1\n",
    "for f in foods:\n",
    "    problem_2 += foodVar[f] <= 10000000 * chosenVar[f] \n",
    "    problem_2 += foodVar[f] >= .1 * chosenVar[f] #at least 0.1 serving be eaten if selected\n",
    "    \n",
    "#new constraint 2 - either broccoli or celery\n",
    "problem_2 += chosenVar['Frozen Broccoli'] + chosenVar['Celery, Raw'] <= 1, 'At most one Broccoli Celery'\n",
    "\n",
    "#new constraint 3 - at least 3 kinds of proteins\n",
    "problem_2 += chosenVar['Roasted Chicken'] + chosenVar['Poached Eggs'] + \\\n",
    "  chosenVar['Scrambled Eggs'] + chosenVar['Frankfurter, Beef'] + \\\n",
    "  chosenVar['Kielbasa,Prk'] + chosenVar['Hamburger W/Toppings'] + \\\n",
    "  chosenVar['Hotdog, Plain'] + chosenVar['Pork'] + \\\n",
    "  chosenVar['Bologna,Turkey'] + chosenVar['Ham,Sliced,Extralean'] + \\\n",
    "  chosenVar['White Tuna in Water'] + chosenVar['Tofu'] + chosenVar['Sardines in Oil'] + \\\n",
    "  chosenVar['Chicknoodl Soup'] + chosenVar['Splt Pea&Hamsoup'] + chosenVar['Vegetbeef Soup'] + \\\n",
    "  chosenVar['Neweng Clamchwd'] + chosenVar['New E Clamchwd,W/Mlk'] + chosenVar['Beanbacn Soup,W/Watr'] \\\n",
    "  >= 3, 'At least three proteins'"
   ]
  },
  {
   "cell_type": "code",
   "execution_count": 18,
   "metadata": {},
   "outputs": [
    {
     "name": "stdout",
     "output_type": "stream",
     "text": [
      "Status: Optimal\n"
     ]
    }
   ],
   "source": [
    "#solve the problem\n",
    "problem_2.solve()\n",
    "print(\"Status:\", LpStatus[problem_2.status])"
   ]
  },
  {
   "cell_type": "code",
   "execution_count": 19,
   "metadata": {},
   "outputs": [
    {
     "name": "stdout",
     "output_type": "stream",
     "text": [
      "Chosen_Celery,_Raw = 1.0\n",
      "Chosen_Kielbasa,Prk = 1.0\n",
      "Chosen_Lettuce,Iceberg,Raw = 1.0\n",
      "Chosen_Oranges = 1.0\n",
      "Chosen_Peanut_Butter = 1.0\n",
      "Chosen_Poached_Eggs = 1.0\n",
      "Chosen_Popcorn,Air_Popped = 1.0\n",
      "Chosen_Scrambled_Eggs = 1.0\n",
      "foods_Celery,_Raw = 42.399358\n",
      "foods_Kielbasa,Prk = 0.1\n",
      "foods_Lettuce,Iceberg,Raw = 82.802586\n",
      "foods_Oranges = 3.0771841\n",
      "foods_Peanut_Butter = 1.9429716\n",
      "foods_Poached_Eggs = 0.1\n",
      "foods_Popcorn,Air_Popped = 13.223294\n",
      "foods_Scrambled_Eggs = 0.1\n",
      "Total cost of optimal diet = $4.51\n"
     ]
    }
   ],
   "source": [
    "#optimal solution print\n",
    "for v in problem_2.variables():\n",
    "    if v.varValue != 0.0: \n",
    "        print(v.name, \"=\", v.varValue)\n",
    "\n",
    "# cost of the optimal diet\n",
    "print(\"Total cost of optimal diet = $%.2f\" % value(problem_2.objective))"
   ]
  },
  {
   "cell_type": "markdown",
   "metadata": {},
   "source": [
    "### Solution Large XLS w/ Normal Constraints\n",
    "The code below uses the model from 15.2.1 for the large xls file using the standard nutrient constraints.<br>\n",
    "What an optimal diet of cocoa_mix, Infant_formula, mung beans etc. with total cholestoral intake of 0.\n"
   ]
  },
  {
   "cell_type": "code",
   "execution_count": 20,
   "metadata": {},
   "outputs": [],
   "source": [
    "import numpy as np\n",
    "\n",
    "#setting up the default dictionary to pull the excel file from\n",
    "os.chdir('/Users/MFarooq10/Dropbox/Personal/Studies/Analytics Masters Content/2. Intro to Analytics Modeling/Week 12/data_15.2')\n",
    "\n",
    "#importing data to a dataframe\n",
    "data = pd.read_excel('diet_large.xls') \n",
    "\n",
    "#trimming the bottom rows\n",
    "diet_data = data[1:7147]\n",
    "\n",
    "#converting data to list of lists\n",
    "diet_data = diet_data.values.tolist()"
   ]
  },
  {
   "cell_type": "code",
   "execution_count": 21,
   "metadata": {},
   "outputs": [],
   "source": [
    "for i in range(0,7146):\n",
    "    for j in range(1,30):\n",
    "        if np.isnan(diet_data[i][j]):\n",
    "            diet_data[i][j] = 0"
   ]
  },
  {
   "cell_type": "code",
   "execution_count": 22,
   "metadata": {},
   "outputs": [],
   "source": [
    "#create dictionaries for foods, cost and nutrients\n",
    "foods = [x[0] for x in diet_data]\n",
    "cost = dict([(x[0], float(x[28])) for x in diet_data])\n",
    "protein = dict([(x[0], float(x[1])) for x in diet_data])\n",
    "Carbohydrate = dict([(x[0], float(x[2])) for x in diet_data])\n",
    "Energy = dict([(x[0], float(x[3])) for x in diet_data])\n",
    "Water = dict([(x[0], float(x[4])) for x in diet_data])\n",
    "Energy = dict([(x[0], float(x[5])) for x in diet_data])\n",
    "Calcium = dict([(x[0], float(x[6])) for x in diet_data])\n",
    "Iron = dict([(x[0], float(x[7])) for x in diet_data])\n",
    "Magnesium = dict([(x[0], float(x[8])) for x in diet_data])\n",
    "Phosphorus = dict([(x[0], float(x[9])) for x in diet_data])\n",
    "Potassium = dict([(x[0], float(x[10])) for x in diet_data])\n",
    "Sodium = dict([(x[0], float(x[11])) for x in diet_data])\n",
    "Zinc = dict([(x[0], float(x[12])) for x in diet_data])\n",
    "Copper = dict([(x[0], float(x[13])) for x in diet_data])\n",
    "Manganese = dict([(x[0], float(x[14])) for x in diet_data])\n",
    "Selenium = dict([(x[0], float(x[15])) for x in diet_data])\n",
    "VitaminA = dict([(x[0], float(x[16])) for x in diet_data])\n",
    "VitaminE = dict([(x[0], float(x[17])) for x in diet_data])\n",
    "VitaminD = dict([(x[0], float(x[18])) for x in diet_data])\n",
    "VitaminC = dict([(x[0], float(x[19])) for x in diet_data])\n",
    "Thiamin = dict([(x[0], float(x[20])) for x in diet_data])\n",
    "Riboflavin = dict([(x[0], float(x[21])) for x in diet_data])\n",
    "Niacin = dict([(x[0], float(x[22])) for x in diet_data])\n",
    "Pantothenic = dict([(x[0], float(x[23])) for x in diet_data])\n",
    "VitaminB6 = dict([(x[0], float(x[24])) for x in diet_data])\n",
    "Folate = dict([(x[0], float(x[25])) for x in diet_data])\n",
    "VitaminB12 = dict([(x[0], float(x[26])) for x in diet_data])\n",
    "VitaminK = dict([(x[0], float(x[27])) for x in diet_data])"
   ]
  },
  {
   "cell_type": "code",
   "execution_count": 23,
   "metadata": {},
   "outputs": [
    {
     "name": "stdout",
     "output_type": "stream",
     "text": [
      "['Butter, salted', 'Butter, whipped, with salt', 'Butter oil, anhydrous', 'Cheese, blue', 'Cheese, brick']\n"
     ]
    },
    {
     "data": {
      "text/plain": [
       "{'Butter, salted': 0.85,\n",
       " 'Butter, whipped, with salt': 0.85,\n",
       " 'Butter oil, anhydrous': 0.28,\n",
       " 'Cheese, blue': 21.4,\n",
       " 'Cheese, brick': 23.24}"
      ]
     },
     "execution_count": 23,
     "metadata": {},
     "output_type": "execute_result"
    }
   ],
   "source": [
    "#showing the foods list and a sample dictionary with 5 elements only\n",
    "print(foods[:5])\n",
    "dict(itertools.islice(protein.items(), 5)) "
   ]
  },
  {
   "cell_type": "code",
   "execution_count": 24,
   "metadata": {},
   "outputs": [],
   "source": [
    "# create list for min and max nutrition values for foods\n",
    "n_min = [56, 130, 2400, 3700, 2400, 1000, 8, 270, 700, 4700, 1500, 11, 0.9, 2.3, 55, 900, 15, 200, 90, 0.0012, \\\n",
    "         1.3, 16, 5, 1.3, 400, 2.4, 120]\n",
    "\n",
    "n_max = [1000000, 1000000, 1000000, 1000000, 1000000, 2500, 45, 400, 4000, 1000000, 2300, 40, 10, 11, 400, 3000,\\\n",
    "         1000, 2000, 2000, 1000000, 1000000, 35, 1000000, 100, 1000, 1000000, 1000000]\n"
   ]
  },
  {
   "cell_type": "code",
   "execution_count": 25,
   "metadata": {},
   "outputs": [
    {
     "data": {
      "text/plain": [
       "{'Butter, salted': 0.85,\n",
       " 'Butter, whipped, with salt': 0.85,\n",
       " 'Butter oil, anhydrous': 0.28,\n",
       " 'Cheese, blue': 21.4,\n",
       " 'Cheese, brick': 23.24}"
      ]
     },
     "execution_count": 25,
     "metadata": {},
     "output_type": "execute_result"
    }
   ],
   "source": [
    "#list of dictionary of foods with contraints\n",
    "f_c = []\n",
    "for j in range(0,27):\n",
    "    f_c.append(dict([(x[0], float(x[j+1])) for x in diet_data]))\n",
    "\n",
    "#showing first 5 pairs of 1st dictionary in the list\n",
    "dict(itertools.islice(f_c[0].items(), 5)) "
   ]
  },
  {
   "cell_type": "code",
   "execution_count": 26,
   "metadata": {},
   "outputs": [],
   "source": [
    "#creating the optimization problem\n",
    "problem_3 = LpProblem('Diet_optimization_3', LpMinimize)"
   ]
  },
  {
   "cell_type": "code",
   "execution_count": 27,
   "metadata": {},
   "outputs": [],
   "source": [
    "#define variables\n",
    "foodVar = LpVariable.dicts(\"foods\", foods, lowBound=0)\n",
    "chosenVar = LpVariable.dicts(\"Chosen\", foods, lowBound=0, upBound=1, cat=\"Binary\")"
   ]
  },
  {
   "cell_type": "code",
   "execution_count": 28,
   "metadata": {},
   "outputs": [],
   "source": [
    "#objective function\n",
    "problem_3 += lpSum([cost[f] * foodVar[f] for f in foods])"
   ]
  },
  {
   "cell_type": "code",
   "execution_count": 29,
   "metadata": {},
   "outputs": [],
   "source": [
    "#constraints for nutrients\n",
    "for i in range(0,27): \n",
    "    f_c_foodvar = pulp.lpSum([f_c[i][j] * foodVar[j] for j in foods])\n",
    "    condition_1 = n_min[i] <= + f_c_foodvar\n",
    "    problem_3 += condition_1\n",
    "    \n",
    "for i in range(0,27):\n",
    "    f_c_foodvar = pulp.lpSum([f_c[i][j] * foodVar[j] for j in foods])\n",
    "    condition_2 = n_max[i] >= + f_c_foodvar\n",
    "    problem_3 += condition_2"
   ]
  },
  {
   "cell_type": "code",
   "execution_count": 30,
   "metadata": {},
   "outputs": [
    {
     "name": "stdout",
     "output_type": "stream",
     "text": [
      "Status: Optimal\n"
     ]
    }
   ],
   "source": [
    "#solve the problem\n",
    "problem_3.solve()\n",
    "print(\"Status:\", LpStatus[problem_3.status])"
   ]
  },
  {
   "cell_type": "code",
   "execution_count": 31,
   "metadata": {},
   "outputs": [
    {
     "name": "stdout",
     "output_type": "stream",
     "text": [
      "foods_Beans,_adzuki,_mature_seeds,_raw = 0.20043602\n",
      "foods_Cocoa_mix,_no_sugar_added,_powder = 0.64969274\n",
      "foods_Egg,_white,_dried,_flakes,_glucose_reduced = 0.057161811\n",
      "foods_Infant_formula,_MEAD_JOHNSON,_ENFAMIL,_NUTRAMIGEN,_with_iron,_p = 0.1593857\n",
      "foods_Infant_formula,_MEAD_JOHNSON,_LOFENALAC,_with_iron,_powder,_not = 0.1934253\n",
      "foods_Infant_formula,_NESTLE,_GOOD_START_ESSENTIALS__SOY,__with_iron, = 0.60094411\n",
      "foods_Infant_formula,_ROSS,_ISOMIL,_with_iron,_powder,_not_reconstitu = 0.33676453\n",
      "foods_Margarine_like_spread,_approximately_60%_fat,_tub,_soybean_(hyd = 0.36808435\n",
      "foods_Mung_beans,_mature_seeds,_raw = 0.12702447\n",
      "foods_Oil,_whale,_beluga_(Alaska_Native) = 0.7688967\n",
      "foods_Seeds,_sunflower_seed_kernels,_dry_roasted,_without_salt = 0.0048129864\n",
      "foods_Snacks,_potato_chips,_reduced_fat = 0.6720489\n",
      "foods_Soybeans,_mature_seeds,_dry_roasted = 0.25854254\n",
      "foods_Spices,_pepper,_red_or_cayenne = 0.0012038782\n",
      "foods_Tomatoes,_sun_dried = 0.04872974\n",
      "foods_Water,_bottled,_non_carbonated,_CALISTOGA = 9999.731\n",
      "foods_Wheat,_durum = 0.11940413\n",
      "Total cholestoral of optimal diet = 0.00\n"
     ]
    }
   ],
   "source": [
    "#optimal solution print\n",
    "for v in problem_3.variables():\n",
    "    if v.varValue != 0.0: \n",
    "        print(v.name, \"=\", v.varValue)\n",
    "\n",
    "# cost of the optimal diet\n",
    "print(\"Total cholestoral of optimal diet = %.2f\" % value(problem_3.objective))"
   ]
  }
 ],
 "metadata": {
  "kernelspec": {
   "display_name": "Python 3",
   "language": "python",
   "name": "python3"
  },
  "language_info": {
   "codemirror_mode": {
    "name": "ipython",
    "version": 3
   },
   "file_extension": ".py",
   "mimetype": "text/x-python",
   "name": "python",
   "nbconvert_exporter": "python",
   "pygments_lexer": "ipython3",
   "version": "3.6.10"
  }
 },
 "nbformat": 4,
 "nbformat_minor": 4
}
